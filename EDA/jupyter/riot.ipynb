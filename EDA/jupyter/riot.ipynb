{
 "cells": [
  {
   "cell_type": "code",
   "execution_count": 1,
   "metadata": {},
   "outputs": [],
   "source": [
    "import requests\n",
    "from urllib.parse import urlparse"
   ]
  },
  {
   "cell_type": "code",
   "execution_count": 9,
   "metadata": {},
   "outputs": [
    {
     "name": "stdout",
     "output_type": "stream",
     "text": [
      "{'error': {'name': 'OPENAPI00004', 'message': 'Please input valid parameter'}}\n"
     ]
    }
   ],
   "source": [
    "headers = {\n",
    "    \"x-nxopen-api-key\": \"test_93de6ba204439aad297a66563efa82804a011e34661935b27875a1be544746cdefe8d04e6d233bd35cf2fabdeb93fb0d\"\n",
    "}\n",
    "  \n",
    "characterName = \"빨강과파랑팀\"\n",
    "urlString = \"https://open.api.nexon.com/fconline/v1/user/trade?tradetype=buy&offset=0&limit=100\" + characterName\n",
    "response = requests.get(urlString, headers = headers)\n",
    "\n",
    "print(response.json())"
   ]
  },
  {
   "cell_type": "code",
   "execution_count": null,
   "metadata": {},
   "outputs": [],
   "source": []
  }
 ],
 "metadata": {
  "kernelspec": {
   "display_name": "eda_venv",
   "language": "python",
   "name": "python3"
  },
  "language_info": {
   "codemirror_mode": {
    "name": "ipython",
    "version": 3
   },
   "file_extension": ".py",
   "mimetype": "text/x-python",
   "name": "python",
   "nbconvert_exporter": "python",
   "pygments_lexer": "ipython3",
   "version": "3.10.12"
  }
 },
 "nbformat": 4,
 "nbformat_minor": 2
}
