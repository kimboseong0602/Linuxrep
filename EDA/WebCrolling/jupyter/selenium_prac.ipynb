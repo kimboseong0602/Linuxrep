{
 "cells": [
  {
   "cell_type": "code",
   "execution_count": 44,
   "metadata": {},
   "outputs": [],
   "source": [
    "from selenium import webdriver\n",
    "from selenium.webdriver.chrome.service import Service\n",
    "from selenium.webdriver.common.by import By\n"
   ]
  },
  {
   "cell_type": "code",
   "execution_count": 106,
   "metadata": {},
   "outputs": [],
   "source": [
    "driver = webdriver.Chrome(service=Service(\"../driver/chromedriver-linux64/chromedriver\"))\n",
    "driver.get(\"https://www.etnews.com/\")"
   ]
  },
  {
   "cell_type": "code",
   "execution_count": 107,
   "metadata": {},
   "outputs": [],
   "source": [
    "driver.maximize_window()"
   ]
  },
  {
   "cell_type": "code",
   "execution_count": 108,
   "metadata": {},
   "outputs": [],
   "source": [
    "driver.execute_script(\"window.scrollTo(0,0)\")"
   ]
  },
  {
   "cell_type": "code",
   "execution_count": 109,
   "metadata": {},
   "outputs": [],
   "source": [
    "go_conference = driver.find_element(By.XPATH, '''//*[@id=\"etcon\"]/div[2]/section[1]/div/nav/div[1]/ul/li[1]/a''')\n",
    "go_conference.click()"
   ]
  },
  {
   "cell_type": "code",
   "execution_count": 110,
   "metadata": {},
   "outputs": [],
   "source": [
    "menutab = driver.find_element(By.XPATH, '''/html/body/div[3]/header/div/button''')\n",
    "menutab.click()"
   ]
  },
  {
   "cell_type": "code",
   "execution_count": 111,
   "metadata": {},
   "outputs": [],
   "source": [
    "AISWse = driver.find_element(By.XPATH, '''//*[@id=\"mySidebar\"]/a[6]''')\n",
    "AISWse.click()"
   ]
  },
  {
   "cell_type": "code",
   "execution_count": 112,
   "metadata": {},
   "outputs": [],
   "source": [
    "keywordlist_nvidia = ['NVIDIA', 'Nvidia', 'nvidia', '엔비디아']\n",
    "keywordlist_plus = ['생성형', 'AI', '생성형 AI']"
   ]
  },
  {
   "cell_type": "code",
   "execution_count": 113,
   "metadata": {},
   "outputs": [],
   "source": [
    "from selenium.webdriver.common.keys import Keys\n",
    "\n",
    "search_button = driver.find_element(By.XPATH, '''//*[@id=\"search_kwd\"]''')\n",
    "search_button.click()\n",
    "search_button.send_keys(Keys.CONTROL, 'a', Keys.BACK_SPACE)\n",
    "search_button.send_keys(keywordlist_plus[0])\n",
    "search_button.send_keys(Keys.ENTER)"
   ]
  },
  {
   "cell_type": "code",
   "execution_count": 115,
   "metadata": {},
   "outputs": [],
   "source": [
    "gotonews = driver.find_element(By.XPATH, '''/html/body/section/section/section/div[2]/p/a''')\n",
    "gotonews.click()"
   ]
  },
  {
   "cell_type": "code",
   "execution_count": 175,
   "metadata": {},
   "outputs": [
    {
     "ename": "SyntaxError",
     "evalue": "incomplete input (1492145465.py, line 14)",
     "output_type": "error",
     "traceback": [
      "\u001b[0;36m  Cell \u001b[0;32mIn[175], line 14\u001b[0;36m\u001b[0m\n\u001b[0;31m    for item in soup.find_all('li'):\u001b[0m\n\u001b[0m                                    ^\u001b[0m\n\u001b[0;31mSyntaxError\u001b[0m\u001b[0;31m:\u001b[0m incomplete input\n"
     ]
    }
   ],
   "source": [
    "from bs4 import BeautifulSoup\n",
    "from datetime import date\n",
    "\n",
    "today_news_list = driver.find_element(By.CLASS_NAME, \"list_news\")\n",
    "nowday = date.today()\n",
    "now =nowday.strftime(\"%Y년 %m월 %d일\")\n",
    "html = driver.page_source\n",
    "soup = BeautifulSoup(html, 'html.parser')\n",
    "listnewshtml = soup.find_all('ul', class_='list_news')[0]\n",
    "print(listnewshtml)\n",
    "\n",
    "newslist = []\n",
    "\n",
    "for item in soup.find_all('li'):"
   ]
  },
  {
   "cell_type": "code",
   "execution_count": 69,
   "metadata": {},
   "outputs": [
    {
     "name": "stdout",
     "output_type": "stream",
     "text": [
      "<selenium.webdriver.remote.webelement.WebElement (session=\"19e4ab60624743544a74eed10176e2f0\", element=\"f.23956F963352659B6DC071094C23DD81.d.4A5682CF86AD2DEFF82DF0BB13723676.e.138\")>\n"
     ]
    }
   ],
   "source": [
    "print(today_news_list)"
   ]
  },
  {
   "cell_type": "code",
   "execution_count": 105,
   "metadata": {},
   "outputs": [
    {
     "ename": "WebDriverException",
     "evalue": "Message: disconnected: not connected to DevTools\n  (failed to check if window was closed: disconnected: not connected to DevTools)\n  (Session info: chrome=125.0.6422.141)\nStacktrace:\n#0 0x570478d0fe3a <unknown>\n#1 0x5704789f945c <unknown>\n#2 0x5704789dd742 <unknown>\n#3 0x5704789de9af <unknown>\n#4 0x5704789f99c6 <unknown>\n#5 0x5704789ce5be <unknown>\n#6 0x570478a784ba <unknown>\n#7 0x570478a78040 <unknown>\n#8 0x570478a68478 <unknown>\n#9 0x570478a381c7 <unknown>\n#10 0x570478a38b3e <unknown>\n#11 0x570478cd627b <unknown>\n#12 0x570478cda327 <unknown>\n#13 0x570478cc2dae <unknown>\n#14 0x570478cdadf2 <unknown>\n#15 0x570478ca774f <unknown>\n#16 0x570478cff128 <unknown>\n#17 0x570478cff2fb <unknown>\n#18 0x570478d0ef6c <unknown>\n#19 0x72ddd3c94ac3 <unknown>\n",
     "output_type": "error",
     "traceback": [
      "\u001b[0;31m---------------------------------------------------------------------------\u001b[0m",
      "\u001b[0;31mWebDriverException\u001b[0m                        Traceback (most recent call last)",
      "Cell \u001b[0;32mIn[105], line 1\u001b[0m\n\u001b[0;32m----> 1\u001b[0m \u001b[43mdriver\u001b[49m\u001b[38;5;241;43m.\u001b[39;49m\u001b[43mclose\u001b[49m\u001b[43m(\u001b[49m\u001b[43m)\u001b[49m\n",
      "File \u001b[0;32m~/class/venv/eda_venv/lib/python3.10/site-packages/selenium/webdriver/remote/webdriver.py:458\u001b[0m, in \u001b[0;36mWebDriver.close\u001b[0;34m(self)\u001b[0m\n\u001b[1;32m    450\u001b[0m \u001b[38;5;28;01mdef\u001b[39;00m \u001b[38;5;21mclose\u001b[39m(\u001b[38;5;28mself\u001b[39m) \u001b[38;5;241m-\u001b[39m\u001b[38;5;241m>\u001b[39m \u001b[38;5;28;01mNone\u001b[39;00m:\n\u001b[1;32m    451\u001b[0m \u001b[38;5;250m    \u001b[39m\u001b[38;5;124;03m\"\"\"Closes the current window.\u001b[39;00m\n\u001b[1;32m    452\u001b[0m \n\u001b[1;32m    453\u001b[0m \u001b[38;5;124;03m    :Usage:\u001b[39;00m\n\u001b[0;32m   (...)\u001b[0m\n\u001b[1;32m    456\u001b[0m \u001b[38;5;124;03m            driver.close()\u001b[39;00m\n\u001b[1;32m    457\u001b[0m \u001b[38;5;124;03m    \"\"\"\u001b[39;00m\n\u001b[0;32m--> 458\u001b[0m     \u001b[38;5;28;43mself\u001b[39;49m\u001b[38;5;241;43m.\u001b[39;49m\u001b[43mexecute\u001b[49m\u001b[43m(\u001b[49m\u001b[43mCommand\u001b[49m\u001b[38;5;241;43m.\u001b[39;49m\u001b[43mCLOSE\u001b[49m\u001b[43m)\u001b[49m\n",
      "File \u001b[0;32m~/class/venv/eda_venv/lib/python3.10/site-packages/selenium/webdriver/remote/webdriver.py:347\u001b[0m, in \u001b[0;36mWebDriver.execute\u001b[0;34m(self, driver_command, params)\u001b[0m\n\u001b[1;32m    345\u001b[0m response \u001b[38;5;241m=\u001b[39m \u001b[38;5;28mself\u001b[39m\u001b[38;5;241m.\u001b[39mcommand_executor\u001b[38;5;241m.\u001b[39mexecute(driver_command, params)\n\u001b[1;32m    346\u001b[0m \u001b[38;5;28;01mif\u001b[39;00m response:\n\u001b[0;32m--> 347\u001b[0m     \u001b[38;5;28;43mself\u001b[39;49m\u001b[38;5;241;43m.\u001b[39;49m\u001b[43merror_handler\u001b[49m\u001b[38;5;241;43m.\u001b[39;49m\u001b[43mcheck_response\u001b[49m\u001b[43m(\u001b[49m\u001b[43mresponse\u001b[49m\u001b[43m)\u001b[49m\n\u001b[1;32m    348\u001b[0m     response[\u001b[38;5;124m\"\u001b[39m\u001b[38;5;124mvalue\u001b[39m\u001b[38;5;124m\"\u001b[39m] \u001b[38;5;241m=\u001b[39m \u001b[38;5;28mself\u001b[39m\u001b[38;5;241m.\u001b[39m_unwrap_value(response\u001b[38;5;241m.\u001b[39mget(\u001b[38;5;124m\"\u001b[39m\u001b[38;5;124mvalue\u001b[39m\u001b[38;5;124m\"\u001b[39m, \u001b[38;5;28;01mNone\u001b[39;00m))\n\u001b[1;32m    349\u001b[0m     \u001b[38;5;28;01mreturn\u001b[39;00m response\n",
      "File \u001b[0;32m~/class/venv/eda_venv/lib/python3.10/site-packages/selenium/webdriver/remote/errorhandler.py:229\u001b[0m, in \u001b[0;36mErrorHandler.check_response\u001b[0;34m(self, response)\u001b[0m\n\u001b[1;32m    227\u001b[0m         alert_text \u001b[38;5;241m=\u001b[39m value[\u001b[38;5;124m\"\u001b[39m\u001b[38;5;124malert\u001b[39m\u001b[38;5;124m\"\u001b[39m]\u001b[38;5;241m.\u001b[39mget(\u001b[38;5;124m\"\u001b[39m\u001b[38;5;124mtext\u001b[39m\u001b[38;5;124m\"\u001b[39m)\n\u001b[1;32m    228\u001b[0m     \u001b[38;5;28;01mraise\u001b[39;00m exception_class(message, screen, stacktrace, alert_text)  \u001b[38;5;66;03m# type: ignore[call-arg]  # mypy is not smart enough here\u001b[39;00m\n\u001b[0;32m--> 229\u001b[0m \u001b[38;5;28;01mraise\u001b[39;00m exception_class(message, screen, stacktrace)\n",
      "\u001b[0;31mWebDriverException\u001b[0m: Message: disconnected: not connected to DevTools\n  (failed to check if window was closed: disconnected: not connected to DevTools)\n  (Session info: chrome=125.0.6422.141)\nStacktrace:\n#0 0x570478d0fe3a <unknown>\n#1 0x5704789f945c <unknown>\n#2 0x5704789dd742 <unknown>\n#3 0x5704789de9af <unknown>\n#4 0x5704789f99c6 <unknown>\n#5 0x5704789ce5be <unknown>\n#6 0x570478a784ba <unknown>\n#7 0x570478a78040 <unknown>\n#8 0x570478a68478 <unknown>\n#9 0x570478a381c7 <unknown>\n#10 0x570478a38b3e <unknown>\n#11 0x570478cd627b <unknown>\n#12 0x570478cda327 <unknown>\n#13 0x570478cc2dae <unknown>\n#14 0x570478cdadf2 <unknown>\n#15 0x570478ca774f <unknown>\n#16 0x570478cff128 <unknown>\n#17 0x570478cff2fb <unknown>\n#18 0x570478d0ef6c <unknown>\n#19 0x72ddd3c94ac3 <unknown>\n"
     ]
    }
   ],
   "source": [
    "driver.close()"
   ]
  },
  {
   "cell_type": "code",
   "execution_count": null,
   "metadata": {},
   "outputs": [],
   "source": []
  }
 ],
 "metadata": {
  "kernelspec": {
   "display_name": "eda_venv",
   "language": "python",
   "name": "python3"
  },
  "language_info": {
   "codemirror_mode": {
    "name": "ipython",
    "version": 3
   },
   "file_extension": ".py",
   "mimetype": "text/x-python",
   "name": "python",
   "nbconvert_exporter": "python",
   "pygments_lexer": "ipython3",
   "version": "3.10.12"
  }
 },
 "nbformat": 4,
 "nbformat_minor": 2
}
