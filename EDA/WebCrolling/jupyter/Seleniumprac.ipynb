{
 "cells": [
  {
   "cell_type": "markdown",
   "metadata": {},
   "source": [
    "엑셀데이터를 사용하지 않고\n",
    "\n",
    "상표, 주유소명, 주소, 유종별 평균가격(보통휘발유, 경유), 부가정보(세차장 여부, 충전소여부, 경정비 여부, 편의점 여부, 24시 영업 여부)를 가져와보자.(서울시 구별)"
   ]
  },
  {
   "cell_type": "code",
   "execution_count": 1,
   "metadata": {},
   "outputs": [],
   "source": [
    "from selenium import webdriver\n",
    "from selenium.webdriver.chrome.service import Service\n"
   ]
  },
  {
   "cell_type": "code",
   "execution_count": 2,
   "metadata": {},
   "outputs": [],
   "source": [
    "url = \"https://www.opinet.co.kr/searRgSelect.do\"\n",
    "driver = webdriver.Chrome(service=Service(\"../driver/chromedriver-linux64/chromedriver\"))\n",
    "driver.get(url)\n"
   ]
  },
  {
   "cell_type": "code",
   "execution_count": 3,
   "metadata": {},
   "outputs": [],
   "source": [
    "driver.maximize_window()"
   ]
  },
  {
   "cell_type": "code",
   "execution_count": 9,
   "metadata": {},
   "outputs": [
    {
     "name": "stdout",
     "output_type": "stream",
     "text": [
      "0,\n",
      "1,서울특별시\n",
      "2,부산광역시\n",
      "3,대구광역시\n",
      "4,인천광역시\n",
      "5,광주광역시\n",
      "6,대전광역시\n",
      "7,울산광역시\n",
      "8,세종특별자치시\n",
      "9,경기도\n",
      "10,강원특별자치도\n",
      "11,충청북도\n",
      "12,충청남도\n",
      "13,전북특별자치도\n",
      "14,전라남도\n",
      "15,경상북도\n",
      "16,경상남도\n",
      "17,제주특별자치도\n"
     ]
    }
   ],
   "source": [
    "from selenium.webdriver.common.by import By\n",
    "\n",
    "sido = driver.find_element(By.ID, \"SIDO_NM0\")\n",
    "sido_list = sido.find_elements(By.TAG_NAME, \"option\")\n",
    "\n",
    "for idx, sido_name in enumerate(sido_list):\n",
    "    print(str(idx) + \",\" + sido_name.get_attribute(\"value\"))\n",
    "\n"
   ]
  },
  {
   "cell_type": "code",
   "execution_count": 14,
   "metadata": {},
   "outputs": [
    {
     "name": "stdout",
     "output_type": "stream",
     "text": [
      "['서울특별시', '부산광역시', '대구광역시', '인천광역시', '광주광역시', '대전광역시', '울산광역시', '세종특별자치시', '경기도', '강원특별자치도', '충청북도', '충청남도', '전북특별자치도', '전라남도', '경상북도', '경상남도', '제주특별자치도']\n",
      "17\n"
     ]
    }
   ],
   "source": [
    "sudonames = []\n",
    "for idx, sido_name in enumerate(sido_list):\n",
    "    if(sido_name.get_attribute(\"value\") != ''):\n",
    "        sudonames.append(sido_name.get_attribute(\"value\"))\n",
    "print(sudonames)\n",
    "print(len(sudonames))\n"
   ]
  },
  {
   "cell_type": "code",
   "execution_count": 4,
   "metadata": {},
   "outputs": [],
   "source": [
    "obicon = []\n",
    "obname = []\n",
    "obloc = []\n",
    "obhprice = []\n",
    "obgprice = []\n",
    "obclean = []\n",
    "obchge =  []\n",
    "obmech = []\n",
    "obconv = []\n",
    "ob24h = []"
   ]
  }
 ],
 "metadata": {
  "kernelspec": {
   "display_name": "eda_venv",
   "language": "python",
   "name": "python3"
  },
  "language_info": {
   "codemirror_mode": {
    "name": "ipython",
    "version": 3
   },
   "file_extension": ".py",
   "mimetype": "text/x-python",
   "name": "python",
   "nbconvert_exporter": "python",
   "pygments_lexer": "ipython3",
   "version": "3.10.12"
  }
 },
 "nbformat": 4,
 "nbformat_minor": 2
}
