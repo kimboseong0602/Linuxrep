{
 "cells": [
  {
   "cell_type": "code",
   "execution_count": 170,
   "metadata": {},
   "outputs": [],
   "source": [
    "from selenium import webdriver\n",
    "from selenium.webdriver.chrome.service import Service\n",
    "from selenium.webdriver.chrome.options import Options\n"
   ]
  },
  {
   "cell_type": "code",
   "execution_count": 171,
   "metadata": {},
   "outputs": [],
   "source": [
    "opthons = webdriver.ChromeOptions()\n",
    "\n",
    "prefs = {'download.default_directory' : '/home/bo/class/dev_ws/EDA/WebCrolling/data', \n",
    "         'download.prompt_for_download' : False}\n",
    "\n",
    "opthons.add_experimental_option('prefs', prefs)\n",
    "\n",
    "\n",
    "\n",
    "url = \"https://www.opinet.co.kr/searRgSelect.do\"\n",
    "driver = webdriver.Chrome(service=Service(\"../driver/chromedriver-linux64/chromedriver\"), options=opthons)\n",
    "driver.get(url)\n"
   ]
  },
  {
   "cell_type": "code",
   "execution_count": 172,
   "metadata": {},
   "outputs": [],
   "source": [
    "driver.refresh()"
   ]
  },
  {
   "cell_type": "code",
   "execution_count": 173,
   "metadata": {},
   "outputs": [],
   "source": [
    "driver.maximize_window()"
   ]
  },
  {
   "cell_type": "code",
   "execution_count": 174,
   "metadata": {},
   "outputs": [
    {
     "name": "stdout",
     "output_type": "stream",
     "text": [
      "[<selenium.webdriver.remote.webelement.WebElement (session=\"caae00517387ad11091809e569b89b9d\", element=\"f.A7B0255F510E4B63CE6F973797FB7ECB.d.F44ED8585B19875A913293094E351263.e.124\")>, <selenium.webdriver.remote.webelement.WebElement (session=\"caae00517387ad11091809e569b89b9d\", element=\"f.A7B0255F510E4B63CE6F973797FB7ECB.d.F44ED8585B19875A913293094E351263.e.126\")>, <selenium.webdriver.remote.webelement.WebElement (session=\"caae00517387ad11091809e569b89b9d\", element=\"f.A7B0255F510E4B63CE6F973797FB7ECB.d.F44ED8585B19875A913293094E351263.e.128\")>, <selenium.webdriver.remote.webelement.WebElement (session=\"caae00517387ad11091809e569b89b9d\", element=\"f.A7B0255F510E4B63CE6F973797FB7ECB.d.F44ED8585B19875A913293094E351263.e.130\")>, <selenium.webdriver.remote.webelement.WebElement (session=\"caae00517387ad11091809e569b89b9d\", element=\"f.A7B0255F510E4B63CE6F973797FB7ECB.d.F44ED8585B19875A913293094E351263.e.132\")>, <selenium.webdriver.remote.webelement.WebElement (session=\"caae00517387ad11091809e569b89b9d\", element=\"f.A7B0255F510E4B63CE6F973797FB7ECB.d.F44ED8585B19875A913293094E351263.e.134\")>, <selenium.webdriver.remote.webelement.WebElement (session=\"caae00517387ad11091809e569b89b9d\", element=\"f.A7B0255F510E4B63CE6F973797FB7ECB.d.F44ED8585B19875A913293094E351263.e.136\")>, <selenium.webdriver.remote.webelement.WebElement (session=\"caae00517387ad11091809e569b89b9d\", element=\"f.A7B0255F510E4B63CE6F973797FB7ECB.d.F44ED8585B19875A913293094E351263.e.138\")>, <selenium.webdriver.remote.webelement.WebElement (session=\"caae00517387ad11091809e569b89b9d\", element=\"f.A7B0255F510E4B63CE6F973797FB7ECB.d.F44ED8585B19875A913293094E351263.e.140\")>, <selenium.webdriver.remote.webelement.WebElement (session=\"caae00517387ad11091809e569b89b9d\", element=\"f.A7B0255F510E4B63CE6F973797FB7ECB.d.F44ED8585B19875A913293094E351263.e.142\")>, <selenium.webdriver.remote.webelement.WebElement (session=\"caae00517387ad11091809e569b89b9d\", element=\"f.A7B0255F510E4B63CE6F973797FB7ECB.d.F44ED8585B19875A913293094E351263.e.144\")>, <selenium.webdriver.remote.webelement.WebElement (session=\"caae00517387ad11091809e569b89b9d\", element=\"f.A7B0255F510E4B63CE6F973797FB7ECB.d.F44ED8585B19875A913293094E351263.e.146\")>, <selenium.webdriver.remote.webelement.WebElement (session=\"caae00517387ad11091809e569b89b9d\", element=\"f.A7B0255F510E4B63CE6F973797FB7ECB.d.F44ED8585B19875A913293094E351263.e.148\")>, <selenium.webdriver.remote.webelement.WebElement (session=\"caae00517387ad11091809e569b89b9d\", element=\"f.A7B0255F510E4B63CE6F973797FB7ECB.d.F44ED8585B19875A913293094E351263.e.150\")>, <selenium.webdriver.remote.webelement.WebElement (session=\"caae00517387ad11091809e569b89b9d\", element=\"f.A7B0255F510E4B63CE6F973797FB7ECB.d.F44ED8585B19875A913293094E351263.e.152\")>, <selenium.webdriver.remote.webelement.WebElement (session=\"caae00517387ad11091809e569b89b9d\", element=\"f.A7B0255F510E4B63CE6F973797FB7ECB.d.F44ED8585B19875A913293094E351263.e.154\")>, <selenium.webdriver.remote.webelement.WebElement (session=\"caae00517387ad11091809e569b89b9d\", element=\"f.A7B0255F510E4B63CE6F973797FB7ECB.d.F44ED8585B19875A913293094E351263.e.156\")>, <selenium.webdriver.remote.webelement.WebElement (session=\"caae00517387ad11091809e569b89b9d\", element=\"f.A7B0255F510E4B63CE6F973797FB7ECB.d.F44ED8585B19875A913293094E351263.e.158\")>]\n"
     ]
    }
   ],
   "source": [
    "from selenium.webdriver.common.by import By\n",
    "\n",
    "sido = driver.find_element(By.ID, \"SIDO_NM0\")\n",
    "sido_list = sido.find_elements(By.TAG_NAME, \"option\")\n",
    "print(sido_list)"
   ]
  },
  {
   "cell_type": "code",
   "execution_count": 175,
   "metadata": {},
   "outputs": [
    {
     "name": "stdout",
     "output_type": "stream",
     "text": [
      "0, \n",
      "1, 서울특별시\n",
      "2, 부산광역시\n",
      "3, 대구광역시\n",
      "4, 인천광역시\n",
      "5, 광주광역시\n",
      "6, 대전광역시\n",
      "7, 울산광역시\n",
      "8, 세종특별자치시\n",
      "9, 경기도\n",
      "10, 강원특별자치도\n",
      "11, 충청북도\n",
      "12, 충청남도\n",
      "13, 전북특별자치도\n",
      "14, 전라남도\n",
      "15, 경상북도\n",
      "16, 경상남도\n",
      "17, 제주특별자치도\n"
     ]
    }
   ],
   "source": [
    "for idx, sido_name in enumerate(sido_list):\n",
    "    print(str(idx)+\", \" + sido_name.get_attribute(\"value\"))"
   ]
  },
  {
   "cell_type": "code",
   "execution_count": 176,
   "metadata": {},
   "outputs": [],
   "source": [
    "sido_names = [sido_name.get_attribute(\"value\") for sido_name in sido_list]"
   ]
  },
  {
   "cell_type": "code",
   "execution_count": 177,
   "metadata": {},
   "outputs": [
    {
     "data": {
      "text/plain": [
       "['서울특별시',\n",
       " '부산광역시',\n",
       " '대구광역시',\n",
       " '인천광역시',\n",
       " '광주광역시',\n",
       " '대전광역시',\n",
       " '울산광역시',\n",
       " '세종특별자치시',\n",
       " '경기도',\n",
       " '강원특별자치도',\n",
       " '충청북도',\n",
       " '충청남도',\n",
       " '전북특별자치도',\n",
       " '전라남도',\n",
       " '경상북도',\n",
       " '경상남도',\n",
       " '제주특별자치도']"
      ]
     },
     "execution_count": 177,
     "metadata": {},
     "output_type": "execute_result"
    }
   ],
   "source": [
    "sido_names = sido_names[1:]\n",
    "\n",
    "sido_names"
   ]
  },
  {
   "cell_type": "code",
   "execution_count": 178,
   "metadata": {},
   "outputs": [
    {
     "data": {
      "text/plain": [
       "17"
      ]
     },
     "execution_count": 178,
     "metadata": {},
     "output_type": "execute_result"
    }
   ],
   "source": [
    "len(sido_names)"
   ]
  },
  {
   "cell_type": "code",
   "execution_count": 179,
   "metadata": {},
   "outputs": [
    {
     "name": "stdout",
     "output_type": "stream",
     "text": [
      "서울특별시\n"
     ]
    }
   ],
   "source": [
    "print(sido_names[0])\n",
    "sido.send_keys(sido_names[0])"
   ]
  },
  {
   "cell_type": "code",
   "execution_count": 180,
   "metadata": {},
   "outputs": [
    {
     "name": "stdout",
     "output_type": "stream",
     "text": [
      "['', '강남구', '강동구', '강북구', '강서구', '관악구', '광진구', '구로구', '금천구', '노원구', '도봉구', '동대문구', '동작구', '마포구', '서대문구', '서초구', '성동구', '성북구', '송파구', '양천구', '영등포구', '용산구', '은평구', '종로구', '중구', '중랑구']\n"
     ]
    }
   ],
   "source": [
    "gu = driver.find_element(By.ID, \"SIGUNGU_NM0\")\n",
    "gu_list = gu.find_elements(By.TAG_NAME, \"option\")\n",
    "\n",
    "gu_names = [gu_name.get_attribute(\"value\") for gu_name in gu_list]\n",
    "print(gu_names)"
   ]
  },
  {
   "cell_type": "code",
   "execution_count": 181,
   "metadata": {},
   "outputs": [
    {
     "name": "stdout",
     "output_type": "stream",
     "text": [
      "25 ['강남구', '강동구', '강북구', '강서구', '관악구', '광진구', '구로구', '금천구', '노원구', '도봉구', '동대문구', '동작구', '마포구', '서대문구', '서초구', '성동구', '성북구', '송파구', '양천구', '영등포구', '용산구', '은평구', '종로구', '중구', '중랑구']\n"
     ]
    }
   ],
   "source": [
    "gu_names = gu_names[1:]\n",
    "print(len(gu_names), gu_names)"
   ]
  },
  {
   "cell_type": "code",
   "execution_count": 182,
   "metadata": {},
   "outputs": [
    {
     "ename": "ValueError",
     "evalue": "list.remove(x): x not in list",
     "output_type": "error",
     "traceback": [
      "\u001b[0;31m---------------------------------------------------------------------------\u001b[0m",
      "\u001b[0;31mValueError\u001b[0m                                Traceback (most recent call last)",
      "Cell \u001b[0;32mIn[182], line 1\u001b[0m\n\u001b[0;32m----> 1\u001b[0m \u001b[43mgu_names\u001b[49m\u001b[38;5;241;43m.\u001b[39;49m\u001b[43mremove\u001b[49m\u001b[43m(\u001b[49m\u001b[38;5;124;43m'\u001b[39;49m\u001b[38;5;124;43m'\u001b[39;49m\u001b[43m)\u001b[49m\n\u001b[1;32m      2\u001b[0m \u001b[38;5;28mprint\u001b[39m(\u001b[38;5;28mlen\u001b[39m(gu_names), gu_names)\n",
      "\u001b[0;31mValueError\u001b[0m: list.remove(x): x not in list"
     ]
    }
   ],
   "source": [
    "gu_names.remove('')\n",
    "print(len(gu_names), gu_names)"
   ]
  },
  {
   "cell_type": "code",
   "execution_count": 183,
   "metadata": {},
   "outputs": [],
   "source": [
    "gu.send_keys(gu_names[15])"
   ]
  },
  {
   "cell_type": "code",
   "execution_count": 184,
   "metadata": {},
   "outputs": [
    {
     "data": {
      "application/vnd.jupyter.widget-view+json": {
       "model_id": "c837fe3533bd40de84bf960f29c097ca",
       "version_major": 2,
       "version_minor": 0
      },
      "text/plain": [
       "  0%|          | 0/3 [00:00<?, ?it/s]"
      ]
     },
     "metadata": {},
     "output_type": "display_data"
    }
   ],
   "source": [
    "import time\n",
    "from tqdm.notebook import tqdm\n",
    "\n",
    "for gu_name in tqdm(gu_names[:3]):\n",
    "    gu = driver.find_element(By.ID, \"SIGUNGU_NM0\")\n",
    "    gu.send_keys(gu_name)\n",
    "    time.sleep(3)"
   ]
  },
  {
   "cell_type": "code",
   "execution_count": 185,
   "metadata": {},
   "outputs": [
    {
     "data": {
      "application/vnd.jupyter.widget-view+json": {
       "model_id": "216d95aef4184275a9b02a339af821b6",
       "version_major": 2,
       "version_minor": 0
      },
      "text/plain": [
       "  0%|          | 0/3 [00:00<?, ?it/s]"
      ]
     },
     "metadata": {},
     "output_type": "display_data"
    }
   ],
   "source": [
    "import time\n",
    "from tqdm.notebook import tqdm\n",
    "\n",
    "for gu_name in tqdm(gu_names[:3]):\n",
    "    gu = driver.find_element(By.ID, \"SIGUNGU_NM0\")\n",
    "    gu.send_keys(gu_name)\n",
    "    driver.implicitly_wait(3)#이게 훨 빠름."
   ]
  },
  {
   "cell_type": "code",
   "execution_count": 186,
   "metadata": {},
   "outputs": [],
   "source": [
    "driver.find_element(By.XPATH, \"\"\"//*[@id=\"templ_list0\"]/div[7]/div/a/span\"\"\").click()"
   ]
  },
  {
   "cell_type": "code",
   "execution_count": 199,
   "metadata": {},
   "outputs": [
    {
     "data": {
      "application/vnd.jupyter.widget-view+json": {
       "model_id": "316f1b0279b14441984248a7e04bb8ed",
       "version_major": 2,
       "version_minor": 0
      },
      "text/plain": [
       "  0%|          | 0/3 [00:00<?, ?it/s]"
      ]
     },
     "metadata": {},
     "output_type": "display_data"
    }
   ],
   "source": [
    "import time\n",
    "from tqdm.notebook import tqdm\n",
    "\n",
    "for gu_name in tqdm(gu_names[:3]):\n",
    "    gu = driver.find_element(By.ID, \"SIGUNGU_NM0\")\n",
    "    gu.send_keys(gu_name)\n",
    "    driver.implicitly_wait(3)#이게 훨 빠름.\n",
    "    driver.find_element(By.XPATH, \"\"\"//*[@id=\"templ_list0\"]/div[7]/div/a/span\"\"\").click()"
   ]
  },
  {
   "cell_type": "code",
   "execution_count": 200,
   "metadata": {},
   "outputs": [
    {
     "data": {
      "text/plain": [
       "1"
      ]
     },
     "execution_count": 200,
     "metadata": {},
     "output_type": "execute_result"
    }
   ],
   "source": [
    "from glob import glob\n",
    "\n",
    "len(glob(\"../data/지역_*\"))"
   ]
  },
  {
   "cell_type": "code",
   "execution_count": 221,
   "metadata": {},
   "outputs": [
    {
     "data": {
      "text/plain": [
       "0"
      ]
     },
     "execution_count": 221,
     "metadata": {},
     "output_type": "execute_result"
    }
   ],
   "source": [
    "import os\n",
    "\n",
    "for file in glob(\"../data/지역_*\"):\n",
    "    os.remove(file)\n",
    "\n",
    "len(glob(\"../data/지역_*\"))"
   ]
  },
  {
   "cell_type": "code",
   "execution_count": 222,
   "metadata": {},
   "outputs": [
    {
     "data": {
      "text/plain": [
       "['강남구',\n",
       " '강동구',\n",
       " '강북구',\n",
       " '강서구',\n",
       " '관악구',\n",
       " '광진구',\n",
       " '구로구',\n",
       " '금천구',\n",
       " '노원구',\n",
       " '도봉구',\n",
       " '동대문구',\n",
       " '동작구',\n",
       " '마포구',\n",
       " '서대문구',\n",
       " '서초구',\n",
       " '성동구',\n",
       " '성북구',\n",
       " '송파구',\n",
       " '양천구',\n",
       " '영등포구',\n",
       " '용산구',\n",
       " '은평구',\n",
       " '종로구',\n",
       " '중구',\n",
       " '중랑구']"
      ]
     },
     "execution_count": 222,
     "metadata": {},
     "output_type": "execute_result"
    }
   ],
   "source": [
    "gu_names"
   ]
  },
  {
   "cell_type": "code",
   "execution_count": 223,
   "metadata": {},
   "outputs": [
    {
     "data": {
      "application/vnd.jupyter.widget-view+json": {
       "model_id": "e5f606b6ce664f9db17b83c57ef06635",
       "version_major": 2,
       "version_minor": 0
      },
      "text/plain": [
       "  0%|          | 0/25 [00:00<?, ?it/s]"
      ]
     },
     "metadata": {},
     "output_type": "display_data"
    },
    {
     "data": {
      "text/plain": [
       "25"
      ]
     },
     "execution_count": 223,
     "metadata": {},
     "output_type": "execute_result"
    }
   ],
   "source": [
    "from selenium.webdriver.common.keys import Keys\n",
    "from selenium.webdriver.support.wait import WebDriverWait\n",
    "from selenium.webdriver.support import expected_conditions as EC\n",
    "from selenium.webdriver.common.action_chains import ActionChains\n",
    "\n",
    "for gu_name in tqdm(gu_names):\n",
    "    gu = driver.find_element(By.ID, \"SIGUNGU_NM0\")\n",
    "    gu.send_keys(gu_name)\n",
    "\n",
    "    save = WebDriverWait(driver, timeout=30).until(EC.element_to_be_clickable((By.XPATH, \"\"\"//*[@id=\"templ_list0\"]/div[7]/div/a\"\"\")))\n",
    "    ActionChains(driver).move_to_element(save).perform()\n",
    "    save.send_keys(Keys.ENTER)\n",
    "    \n",
    "\n",
    "    time.sleep(1)\n",
    "\n",
    "len(glob(\"../data/지역_*\"))"
   ]
  },
  {
   "cell_type": "code",
   "execution_count": 231,
   "metadata": {},
   "outputs": [
    {
     "name": "stdout",
     "output_type": "stream",
     "text": [
      "25\n"
     ]
    },
    {
     "data": {
      "text/plain": [
       "['../data/지역_위치별(주유소) (15).xls',\n",
       " '../data/지역_위치별(주유소) (10).xls',\n",
       " '../data/지역_위치별(주유소) (13).xls',\n",
       " '../data/지역_위치별(주유소).xls',\n",
       " '../data/지역_위치별(주유소) (2).xls',\n",
       " '../data/지역_위치별(주유소) (3).xls',\n",
       " '../data/지역_위치별(주유소) (17).xls',\n",
       " '../data/지역_위치별(주유소) (1).xls',\n",
       " '../data/지역_위치별(주유소) (9).xls',\n",
       " '../data/지역_위치별(주유소) (22).xls',\n",
       " '../data/지역_위치별(주유소) (16).xls',\n",
       " '../data/지역_위치별(주유소) (14).xls',\n",
       " '../data/지역_위치별(주유소) (21).xls',\n",
       " '../data/지역_위치별(주유소) (24).xls',\n",
       " '../data/지역_위치별(주유소) (19).xls',\n",
       " '../data/지역_위치별(주유소) (23).xls',\n",
       " '../data/지역_위치별(주유소) (5).xls',\n",
       " '../data/지역_위치별(주유소) (11).xls',\n",
       " '../data/지역_위치별(주유소) (4).xls',\n",
       " '../data/지역_위치별(주유소) (12).xls',\n",
       " '../data/지역_위치별(주유소) (8).xls',\n",
       " '../data/지역_위치별(주유소) (6).xls',\n",
       " '../data/지역_위치별(주유소) (20).xls',\n",
       " '../data/지역_위치별(주유소) (7).xls',\n",
       " '../data/지역_위치별(주유소) (18).xls']"
      ]
     },
     "execution_count": 231,
     "metadata": {},
     "output_type": "execute_result"
    }
   ],
   "source": [
    "from glob import glob\n",
    "file_list = glob(\"../data/지역_*\")\n",
    "print(len(file_list))\n",
    "file_list"
   ]
  },
  {
   "cell_type": "code",
   "execution_count": 224,
   "metadata": {},
   "outputs": [
    {
     "ename": "WebDriverException",
     "evalue": "Message: disconnected: not connected to DevTools\n  (failed to check if window was closed: disconnected: not connected to DevTools)\n  (Session info: chrome=126.0.6478.61)\nStacktrace:\n#0 0x6023d67fae3a <unknown>\n#1 0x6023d64e445c <unknown>\n#2 0x6023d64c8742 <unknown>\n#3 0x6023d64c99af <unknown>\n#4 0x6023d64e49c6 <unknown>\n#5 0x6023d64b95be <unknown>\n#6 0x6023d65634ba <unknown>\n#7 0x6023d6563040 <unknown>\n#8 0x6023d6553478 <unknown>\n#9 0x6023d65231c7 <unknown>\n#10 0x6023d6523b3e <unknown>\n#11 0x6023d67c127b <unknown>\n#12 0x6023d67c5327 <unknown>\n#13 0x6023d67addae <unknown>\n#14 0x6023d67c5df2 <unknown>\n#15 0x6023d679274f <unknown>\n#16 0x6023d67ea128 <unknown>\n#17 0x6023d67ea2fb <unknown>\n#18 0x6023d67f9f6c <unknown>\n#19 0x7e20cb294ac3 <unknown>\n",
     "output_type": "error",
     "traceback": [
      "\u001b[0;31m---------------------------------------------------------------------------\u001b[0m",
      "\u001b[0;31mWebDriverException\u001b[0m                        Traceback (most recent call last)",
      "Cell \u001b[0;32mIn[224], line 1\u001b[0m\n\u001b[0;32m----> 1\u001b[0m \u001b[43mdriver\u001b[49m\u001b[38;5;241;43m.\u001b[39;49m\u001b[43mclose\u001b[49m\u001b[43m(\u001b[49m\u001b[43m)\u001b[49m\n",
      "File \u001b[0;32m~/class/venv/eda_venv/lib/python3.10/site-packages/selenium/webdriver/remote/webdriver.py:458\u001b[0m, in \u001b[0;36mWebDriver.close\u001b[0;34m(self)\u001b[0m\n\u001b[1;32m    450\u001b[0m \u001b[38;5;28;01mdef\u001b[39;00m \u001b[38;5;21mclose\u001b[39m(\u001b[38;5;28mself\u001b[39m) \u001b[38;5;241m-\u001b[39m\u001b[38;5;241m>\u001b[39m \u001b[38;5;28;01mNone\u001b[39;00m:\n\u001b[1;32m    451\u001b[0m \u001b[38;5;250m    \u001b[39m\u001b[38;5;124;03m\"\"\"Closes the current window.\u001b[39;00m\n\u001b[1;32m    452\u001b[0m \n\u001b[1;32m    453\u001b[0m \u001b[38;5;124;03m    :Usage:\u001b[39;00m\n\u001b[0;32m   (...)\u001b[0m\n\u001b[1;32m    456\u001b[0m \u001b[38;5;124;03m            driver.close()\u001b[39;00m\n\u001b[1;32m    457\u001b[0m \u001b[38;5;124;03m    \"\"\"\u001b[39;00m\n\u001b[0;32m--> 458\u001b[0m     \u001b[38;5;28;43mself\u001b[39;49m\u001b[38;5;241;43m.\u001b[39;49m\u001b[43mexecute\u001b[49m\u001b[43m(\u001b[49m\u001b[43mCommand\u001b[49m\u001b[38;5;241;43m.\u001b[39;49m\u001b[43mCLOSE\u001b[49m\u001b[43m)\u001b[49m\n",
      "File \u001b[0;32m~/class/venv/eda_venv/lib/python3.10/site-packages/selenium/webdriver/remote/webdriver.py:347\u001b[0m, in \u001b[0;36mWebDriver.execute\u001b[0;34m(self, driver_command, params)\u001b[0m\n\u001b[1;32m    345\u001b[0m response \u001b[38;5;241m=\u001b[39m \u001b[38;5;28mself\u001b[39m\u001b[38;5;241m.\u001b[39mcommand_executor\u001b[38;5;241m.\u001b[39mexecute(driver_command, params)\n\u001b[1;32m    346\u001b[0m \u001b[38;5;28;01mif\u001b[39;00m response:\n\u001b[0;32m--> 347\u001b[0m     \u001b[38;5;28;43mself\u001b[39;49m\u001b[38;5;241;43m.\u001b[39;49m\u001b[43merror_handler\u001b[49m\u001b[38;5;241;43m.\u001b[39;49m\u001b[43mcheck_response\u001b[49m\u001b[43m(\u001b[49m\u001b[43mresponse\u001b[49m\u001b[43m)\u001b[49m\n\u001b[1;32m    348\u001b[0m     response[\u001b[38;5;124m\"\u001b[39m\u001b[38;5;124mvalue\u001b[39m\u001b[38;5;124m\"\u001b[39m] \u001b[38;5;241m=\u001b[39m \u001b[38;5;28mself\u001b[39m\u001b[38;5;241m.\u001b[39m_unwrap_value(response\u001b[38;5;241m.\u001b[39mget(\u001b[38;5;124m\"\u001b[39m\u001b[38;5;124mvalue\u001b[39m\u001b[38;5;124m\"\u001b[39m, \u001b[38;5;28;01mNone\u001b[39;00m))\n\u001b[1;32m    349\u001b[0m     \u001b[38;5;28;01mreturn\u001b[39;00m response\n",
      "File \u001b[0;32m~/class/venv/eda_venv/lib/python3.10/site-packages/selenium/webdriver/remote/errorhandler.py:229\u001b[0m, in \u001b[0;36mErrorHandler.check_response\u001b[0;34m(self, response)\u001b[0m\n\u001b[1;32m    227\u001b[0m         alert_text \u001b[38;5;241m=\u001b[39m value[\u001b[38;5;124m\"\u001b[39m\u001b[38;5;124malert\u001b[39m\u001b[38;5;124m\"\u001b[39m]\u001b[38;5;241m.\u001b[39mget(\u001b[38;5;124m\"\u001b[39m\u001b[38;5;124mtext\u001b[39m\u001b[38;5;124m\"\u001b[39m)\n\u001b[1;32m    228\u001b[0m     \u001b[38;5;28;01mraise\u001b[39;00m exception_class(message, screen, stacktrace, alert_text)  \u001b[38;5;66;03m# type: ignore[call-arg]  # mypy is not smart enough here\u001b[39;00m\n\u001b[0;32m--> 229\u001b[0m \u001b[38;5;28;01mraise\u001b[39;00m exception_class(message, screen, stacktrace)\n",
      "\u001b[0;31mWebDriverException\u001b[0m: Message: disconnected: not connected to DevTools\n  (failed to check if window was closed: disconnected: not connected to DevTools)\n  (Session info: chrome=126.0.6478.61)\nStacktrace:\n#0 0x6023d67fae3a <unknown>\n#1 0x6023d64e445c <unknown>\n#2 0x6023d64c8742 <unknown>\n#3 0x6023d64c99af <unknown>\n#4 0x6023d64e49c6 <unknown>\n#5 0x6023d64b95be <unknown>\n#6 0x6023d65634ba <unknown>\n#7 0x6023d6563040 <unknown>\n#8 0x6023d6553478 <unknown>\n#9 0x6023d65231c7 <unknown>\n#10 0x6023d6523b3e <unknown>\n#11 0x6023d67c127b <unknown>\n#12 0x6023d67c5327 <unknown>\n#13 0x6023d67addae <unknown>\n#14 0x6023d67c5df2 <unknown>\n#15 0x6023d679274f <unknown>\n#16 0x6023d67ea128 <unknown>\n#17 0x6023d67ea2fb <unknown>\n#18 0x6023d67f9f6c <unknown>\n#19 0x7e20cb294ac3 <unknown>\n"
     ]
    }
   ],
   "source": [
    "driver.close()"
   ]
  },
  {
   "cell_type": "code",
   "execution_count": 232,
   "metadata": {},
   "outputs": [
    {
     "data": {
      "text/plain": [
       "['../data/지역_위치별(주유소) (15).xls',\n",
       " '../data/지역_위치별(주유소) (10).xls',\n",
       " '../data/지역_위치별(주유소) (13).xls',\n",
       " '../data/지역_위치별(주유소).xls',\n",
       " '../data/지역_위치별(주유소) (2).xls',\n",
       " '../data/지역_위치별(주유소) (3).xls',\n",
       " '../data/지역_위치별(주유소) (17).xls',\n",
       " '../data/지역_위치별(주유소) (1).xls',\n",
       " '../data/지역_위치별(주유소) (9).xls',\n",
       " '../data/지역_위치별(주유소) (22).xls',\n",
       " '../data/지역_위치별(주유소) (16).xls',\n",
       " '../data/지역_위치별(주유소) (14).xls',\n",
       " '../data/지역_위치별(주유소) (21).xls',\n",
       " '../data/지역_위치별(주유소) (24).xls',\n",
       " '../data/지역_위치별(주유소) (19).xls',\n",
       " '../data/지역_위치별(주유소) (23).xls',\n",
       " '../data/지역_위치별(주유소) (5).xls',\n",
       " '../data/지역_위치별(주유소) (11).xls',\n",
       " '../data/지역_위치별(주유소) (4).xls',\n",
       " '../data/지역_위치별(주유소) (12).xls',\n",
       " '../data/지역_위치별(주유소) (8).xls',\n",
       " '../data/지역_위치별(주유소) (6).xls',\n",
       " '../data/지역_위치별(주유소) (20).xls',\n",
       " '../data/지역_위치별(주유소) (7).xls',\n",
       " '../data/지역_위치별(주유소) (18).xls']"
      ]
     },
     "execution_count": 232,
     "metadata": {},
     "output_type": "execute_result"
    }
   ],
   "source": [
    "file_list"
   ]
  },
  {
   "cell_type": "code",
   "execution_count": 233,
   "metadata": {},
   "outputs": [
    {
     "data": {
      "text/html": [
       "<div>\n",
       "<style scoped>\n",
       "    .dataframe tbody tr th:only-of-type {\n",
       "        vertical-align: middle;\n",
       "    }\n",
       "\n",
       "    .dataframe tbody tr th {\n",
       "        vertical-align: top;\n",
       "    }\n",
       "\n",
       "    .dataframe thead th {\n",
       "        text-align: right;\n",
       "    }\n",
       "</style>\n",
       "<table border=\"1\" class=\"dataframe\">\n",
       "  <thead>\n",
       "    <tr style=\"text-align: right;\">\n",
       "      <th></th>\n",
       "      <th>지역</th>\n",
       "      <th>상호</th>\n",
       "      <th>주소</th>\n",
       "      <th>상표</th>\n",
       "      <th>전화번호</th>\n",
       "      <th>셀프여부</th>\n",
       "      <th>고급휘발유</th>\n",
       "      <th>휘발유</th>\n",
       "      <th>경유</th>\n",
       "      <th>실내등유</th>\n",
       "    </tr>\n",
       "  </thead>\n",
       "  <tbody>\n",
       "    <tr>\n",
       "      <th>14</th>\n",
       "      <td>서울특별시</td>\n",
       "      <td>청계로주유소</td>\n",
       "      <td>서울 성동구 청계천로 454 (하왕십리동)</td>\n",
       "      <td>SK에너지</td>\n",
       "      <td>02-2294-4225</td>\n",
       "      <td>N</td>\n",
       "      <td>-</td>\n",
       "      <td>2095</td>\n",
       "      <td>1995</td>\n",
       "      <td>1895</td>\n",
       "    </tr>\n",
       "    <tr>\n",
       "      <th>15</th>\n",
       "      <td>서울특별시</td>\n",
       "      <td>(주)옥수하이웨이스테이션</td>\n",
       "      <td>서울 성동구 독서당로 168 (옥수동)</td>\n",
       "      <td>GS칼텍스</td>\n",
       "      <td>02-2282-5151</td>\n",
       "      <td>N</td>\n",
       "      <td>2475</td>\n",
       "      <td>2256</td>\n",
       "      <td>2098</td>\n",
       "      <td>-</td>\n",
       "    </tr>\n",
       "  </tbody>\n",
       "</table>\n",
       "</div>"
      ],
      "text/plain": [
       "       지역             상호                       주소     상표          전화번호 셀프여부  \\\n",
       "14  서울특별시         청계로주유소  서울 성동구 청계천로 454 (하왕십리동)  SK에너지  02-2294-4225    N   \n",
       "15  서울특별시  (주)옥수하이웨이스테이션    서울 성동구 독서당로 168 (옥수동)  GS칼텍스  02-2282-5151    N   \n",
       "\n",
       "   고급휘발유   휘발유    경유  실내등유  \n",
       "14     -  2095  1995  1895  \n",
       "15  2475  2256  2098     -  "
      ]
     },
     "execution_count": 233,
     "metadata": {},
     "output_type": "execute_result"
    }
   ],
   "source": [
    "import pandas as pd\n",
    "\n",
    "data = pd.read_excel(file_list[0], header= 2)\n",
    "data.tail(2)"
   ]
  },
  {
   "cell_type": "code",
   "execution_count": 234,
   "metadata": {},
   "outputs": [
    {
     "data": {
      "text/plain": [
       "428"
      ]
     },
     "execution_count": 234,
     "metadata": {},
     "output_type": "execute_result"
    }
   ],
   "source": [
    "data_list = []\n",
    "for file in file_list:\n",
    "    data = pd.read_excel(file, header=2)\n",
    "    data_list.append(data)\n",
    "\n",
    "oil_data = pd.concat(data_list)\n",
    "len(oil_data)"
   ]
  },
  {
   "cell_type": "code",
   "execution_count": 235,
   "metadata": {},
   "outputs": [
    {
     "name": "stdout",
     "output_type": "stream",
     "text": [
      "<class 'pandas.core.frame.DataFrame'>\n",
      "Index: 428 entries, 0 to 23\n",
      "Data columns (total 10 columns):\n",
      " #   Column  Non-Null Count  Dtype \n",
      "---  ------  --------------  ----- \n",
      " 0   지역      428 non-null    object\n",
      " 1   상호      428 non-null    object\n",
      " 2   주소      428 non-null    object\n",
      " 3   상표      428 non-null    object\n",
      " 4   전화번호    428 non-null    object\n",
      " 5   셀프여부    428 non-null    object\n",
      " 6   고급휘발유   428 non-null    object\n",
      " 7   휘발유     428 non-null    int64 \n",
      " 8   경유      428 non-null    int64 \n",
      " 9   실내등유    428 non-null    object\n",
      "dtypes: int64(2), object(8)\n",
      "memory usage: 36.8+ KB\n"
     ]
    }
   ],
   "source": [
    "oil_data.info()"
   ]
  },
  {
   "cell_type": "code",
   "execution_count": null,
   "metadata": {},
   "outputs": [],
   "source": [
    "oil_data = pd.DataFrame({\"상호\" : oil_data[\"상호\"], })"
   ]
  }
 ],
 "metadata": {
  "kernelspec": {
   "display_name": "eda_venv",
   "language": "python",
   "name": "python3"
  },
  "language_info": {
   "codemirror_mode": {
    "name": "ipython",
    "version": 3
   },
   "file_extension": ".py",
   "mimetype": "text/x-python",
   "name": "python",
   "nbconvert_exporter": "python",
   "pygments_lexer": "ipython3",
   "version": "3.10.12"
  }
 },
 "nbformat": 4,
 "nbformat_minor": 2
}
